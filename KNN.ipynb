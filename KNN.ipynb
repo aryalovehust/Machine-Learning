{
 "cells": [
  {
   "cell_type": "code",
   "execution_count": 4,
   "metadata": {},
   "outputs": [
    {
     "name": "stdout",
     "output_type": "stream",
     "text": [
      "Choose a movie: 4\n",
      "                                               name                 genres  \\\n",
      "0                       Father of the Bride Part II             ['Comedy']   \n",
      "1                                       Nine Months             ['Comedy']   \n",
      "2                           Something to Talk About             ['Comedy']   \n",
      "3                                            Girl 6             ['Comedy']   \n",
      "4  To Wong Foo, Thanks for Everything! Julie Newmar             ['Comedy']   \n",
      "5                                    Mouth to Mouth  ['Comedy', 'Foreign']   \n",
      "\n",
      "    budget      revenue runtime popularity vote_counts vote_averages  \n",
      "0        0  7.65789e+07     106    8.38752         173           5.7  \n",
      "1        0  6.96607e+07     103    8.48283         171           5.5  \n",
      "2        0  5.08922e+07     106    3.74321          60           5.7  \n",
      "3  1.2e+07  4.93994e+06     108    4.40517          17           5.7  \n",
      "4        0  4.77742e+07     105    7.65345         117           6.3  \n",
      "5        0            0     106    1.13341           5           5.5  \n",
      "\n",
      " Distance corresponding: \n",
      "[0.         0.03351195 0.04598344 0.05465005 0.07586877 0.09084295]\n",
      "Distance:\n",
      "[0.         0.01260504 0.         0.00840336 0.00420168 0.        ]\n",
      "[0.         0.00067623 0.03295    0.02825361 0.00520803 0.05146578]\n",
      "[0.         0.00023068 0.01303345 0.01799308 0.00645905 0.01937716]\n",
      "[0.  0.2 0.  0.  0.6 0.2]\n"
     ]
    },
    {
     "data": {
      "image/png": "[encoded data removed]",
      "text/plain": [
       "<Figure size 432x288 with 1 Axes>"
      ]
     },
     "metadata": {
      "needs_background": "light"
     },
     "output_type": "display_data"
    }
   ],
   "source": [
    "import numpy as np\n",
    "import pandas as pd\n",
    "from matplotlib import pyplot as plt\n",
    "\n",
    "def hamming_Distance(k, lst):\n",
    "    ham_distance = list()\n",
    "    for i in lst:\n",
    "        count = 0\n",
    "        for x,y in zip(k, i):\n",
    "            if x != y:\n",
    "                count = count + 1\n",
    "        ham_distance.append(count)\n",
    "    return ham_distance\n",
    "\n",
    "def euclid_distance(k, lst):\n",
    "    euclid_distance = list()\n",
    "    for i in lst:\n",
    "        euclid_distance.append(np.sqrt((k - i)** 2))\n",
    "    return euclid_distance\n",
    "\n",
    "class kNN():\n",
    "    def __init__(self, data, radius):\n",
    "        self.radius = radius\n",
    "        ## Get data from CSV file #######\n",
    "        self.csv = pd.read_csv(data)\n",
    "        self.data = self.csv.to_numpy()[:,1:]\n",
    "        \n",
    "        ##### Normalize data ######\n",
    "        \n",
    "        budget = self.data[:, 2]     #### Budget data\n",
    "        self.budget_Normalized = (budget - budget.min()) / (budget.ptp())\n",
    "        \n",
    "        revenue = self.data[:, 3]    ##### Revenue data\n",
    "        self.revenue_Normalized = (revenue - revenue.min()) / (revenue.ptp())\n",
    "        \n",
    "        rt = np.nan_to_num(self.data[:, 4])    #### Runtime data\n",
    "        runtime = np.array([i for i in rt])\n",
    "        runtime[np.isnan(runtime)] = 0\n",
    "        self.runtime_Normalized = (runtime - runtime.min()) / (runtime.ptp())\n",
    "        \n",
    "        popularity = self.data[:, 5]     #### Popularity data\n",
    "        self.popularity_Normalized = (popularity - popularity.min()) / (popularity.ptp())\n",
    "        \n",
    "        vote_counts = self.data[:, 6]     #### Vote_counts data\n",
    "        self.vote_counts_Normalized = (vote_counts - vote_counts.min()) / (vote_counts.ptp())\n",
    "        \n",
    "        self.vote_averages_Normalized = self.data[:, 7]     #### Vote_averages data\n",
    "        \n",
    "        self.gen = self.data[:,1]\n",
    "        self.gen_encode = self.encode_Genres()               ##### Encode genres\n",
    "        \n",
    "        plt.plot(self.popularity_Normalized, self.vote_counts_Normalized, \"b*\")\n",
    "        \n",
    "    def encode_Genres(self):\n",
    "        gen = self.data[:,1]\n",
    "        s = set()\n",
    "        for i in gen:\n",
    "            lst = list()\n",
    "            for k in i:\n",
    "                lst.append(i.split(\",\")[0].replace(\"'\",\"\").replace(\"[\", \"\").replace(\"]\", \"\"))\n",
    "            s = s | set(lst)\n",
    "        genres = [i for i in s]\n",
    "        genres.remove(\"\")\n",
    "        genres.sort()\n",
    "        gen_encode = list()\n",
    "        for k in range(0, len(gen)):\n",
    "            st = list()\n",
    "            for i in genres:\n",
    "                if i in gen[k]:\n",
    "                    st.append(\"1\")\n",
    "                else:\n",
    "                    st.append(\"0\")\n",
    "            gen_encode.append(\"\".join(st))\n",
    "        return gen_encode\n",
    "    \n",
    "    def get_Distance(self, k):\n",
    "        \n",
    "        genres_distance = hamming_Distance(self.gen_encode[k], self.gen_encode)\n",
    "        distance = np.array(genres_distance)\n",
    "        \n",
    "#         budget_distance = euclid_distance(self.budget_Normalized[k], self.budget_Normalized)\n",
    "#         distance = distance + np.array(budget_distance)\n",
    "        \n",
    "#         revenue_distance = euclid_distance(self.revenue_Normalized[k], self.revenue_Normalized)\n",
    "#         distance = distance + np.array(revenue_distance)\n",
    "        \n",
    "        runtime_distance = euclid_distance(self.runtime_Normalized[k], self.runtime_Normalized)\n",
    "        distance = distance + np.array(runtime_distance)\n",
    "        \n",
    "        popularity_distance = euclid_distance(self.popularity_Normalized[k], self.popularity_Normalized)\n",
    "        distance = distance + np.array(popularity_distance)\n",
    "\n",
    "        vote_counts_distance = euclid_distance(self.vote_counts_Normalized[k], self.vote_counts_Normalized)\n",
    "        distance = distance + np.array(vote_counts_distance)\n",
    "\n",
    "        vote_averages_distance = euclid_distance(self.vote_averages_Normalized[k], self.vote_averages_Normalized)\n",
    "        distance = distance + 0.1*np.array(vote_averages_distance)\n",
    "        \n",
    "        return distance, np.array(runtime_distance), np.array(popularity_distance), np.array(vote_counts_distance), np.array(vote_averages_distance)\n",
    "    \n",
    "    def Main(self):\n",
    "        \n",
    "        k = int(input(\"Choose a movie: \"))\n",
    "        distance, rt, pop, vc, va = self.get_Distance(k)\n",
    "        def value(n):\n",
    "            return distance[n]\n",
    "        \n",
    "        idx = np.argpartition(distance, self.radius + 1)\n",
    "        idx1 = list(idx[:self.radius + 1])\n",
    "        idx1.sort(key = value)\n",
    "        result = pd.DataFrame(self.data[idx1], columns = self.csv.columns.values[1:])\n",
    "        print(result.head(self.radius +1 ))\n",
    "        print(\"\\n Distance corresponding: \")\n",
    "        print(*[distance[idx1]], sep = \" - \")\n",
    "        print(\"Distance:\")\n",
    "        print(rt[idx1])\n",
    "        print(pop[idx1])\n",
    "        print(vc[idx1])\n",
    "        print(va[idx1])\n",
    "\n",
    "\n",
    "test = kNN(\"data/movie.csv\",5)\n",
    "test.Main() "
   ]
  },
  {
   "cell_type": "code",
   "execution_count": null,
   "metadata": {},
   "outputs": [],
   "source": [
    "# ## Resnet\n",
    "# ### Inception\n",
    "# YOLO, SSD"
   ]
  },
  {
   "cell_type": "code",
   "execution_count": 8,
   "metadata": {
    "scrolled": true
   },
   "outputs": [],
   "source": [
    "a = [1 for i in test.gen if len(i) == 0]"
   ]
  },
  {
   "cell_type": "code",
   "execution_count": 9,
   "metadata": {},
   "outputs": [
    {
     "data": {
      "text/plain": [
       "[]"
      ]
     },
     "execution_count": 9,
     "metadata": {},
     "output_type": "execute_result"
    }
   ],
   "source": [
    "a"
   ]
  },
  {
   "cell_type": "code",
   "execution_count": null,
   "metadata": {},
   "outputs": [],
   "source": []
  },
  {
   "cell_type": "code",
   "execution_count": null,
   "metadata": {},
   "outputs": [],
   "source": []
  },
  {
   "cell_type": "code",
   "execution_count": null,
   "metadata": {},
   "outputs": [],
   "source": []
  },
  {
   "cell_type": "code",
   "execution_count": null,
   "metadata": {},
   "outputs": [],
   "source": []
  },
  {
   "cell_type": "code",
   "execution_count": null,
   "metadata": {},
   "outputs": [],
   "source": []
  },
  {
   "cell_type": "code",
   "execution_count": null,
   "metadata": {},
   "outputs": [],
   "source": []
  },
  {
   "cell_type": "code",
   "execution_count": null,
   "metadata": {},
   "outputs": [],
   "source": []
  }
 ],
 "metadata": {
  "kernelspec": {
   "display_name": "Python 3",
   "language": "python",
   "name": "python3"
  },
  "language_info": {
   "codemirror_mode": {
    "name": "ipython",
    "version": 3
   },
   "file_extension": ".py",
   "mimetype": "text/x-python",
   "name": "python",
   "nbconvert_exporter": "python",
   "pygments_lexer": "ipython3",
   "version": "3.6.10"
  }
 },
 "nbformat": 4,
 "nbformat_minor": 4
}
